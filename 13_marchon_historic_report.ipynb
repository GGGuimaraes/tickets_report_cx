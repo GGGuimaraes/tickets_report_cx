{
 "cells": [
  {
   "cell_type": "code",
   "execution_count": 1,
   "metadata": {},
   "outputs": [],
   "source": [
    "from docx import Document\n",
    "from docx.shared import Inches\n",
    "from docx.enum.text import WD_ALIGN_PARAGRAPH\n",
    "from blupy.connections.db_connections import query_in_db as query_in_db\n",
    "import pickle\n",
    "import payload\n",
    "import six\n",
    "import boto3\n",
    "import sys\n",
    "import pandas as pd\n",
    "import json\n",
    "from sqlalchemy import create_engine\n",
    "import time\n",
    "from datetime import timedelta\n",
    "S3 = boto3.resource('s3')\n",
    "\n",
    "\n",
    "def extract_file_as_string(path):\n",
    "    s3_object = S3.Object('blu-etl', path)\n",
    "    return s3_object.get()['Body'].read().decode('utf-8')\n",
    "\n",
    "\n",
    "\n",
    "def connect(credentials_name):\n",
    "    credentials = json.loads(extract_file_as_string(\n",
    "        'credentials/' + credentials_name))\n",
    "    \n",
    "    return create_engine('postgresql://{0}:{1}@{2}:{3}/{4}'\n",
    "                        .format(credentials['user'], \n",
    "                                credentials['passwd'],\n",
    "                                credentials['host'],\n",
    "                                credentials['port'],\n",
    "                                credentials['dbname']))"
   ]
  },
  {
   "cell_type": "code",
   "execution_count": 2,
   "metadata": {},
   "outputs": [],
   "source": [
    "import pandas as pd\n",
    "import psycopg2\n",
    "import pandas.io.sql as sqlio\n",
    "import numpy as np\n",
    "import os,sys, inspect\n",
    "from sklearn.preprocessing import LabelEncoder\n",
    "import db_connections\n",
    "import boto3\n",
    "from datetime import datetime\n",
    "from s3 import *\n",
    "import utils\n",
    "import client_score_basic_functions as cs\n",
    "import payload\n",
    "import matplotlib.pyplot as plt\n",
    "\n",
    "from os import walk\n",
    "\n",
    "import seaborn as sns\n",
    "import warnings\n",
    "warnings.filterwarnings('ignore')\n",
    "pd.set_option('display.max_columns', None)\n",
    "pd.set_option('display.max_rows', 500)\n",
    "pd.set_option('display.float_format', lambda x: '%.3f' % x)\n",
    "\n",
    "con_destiny = db_connections.connect('blu-rds-datascience.json')\n",
    "con_pipe = db_connections.connect('blu_datascience.json')\n",
    "con_pagnet_production = db_connections.connect('pagnet_read_replica.json')\n",
    "con_send=connect('blu-rds-datascience.json')"
   ]
  },
  {
   "cell_type": "code",
   "execution_count": 3,
   "metadata": {},
   "outputs": [],
   "source": [
    "def render_mpl_table(data, col_width=4, row_height=0.625, font_size=14,\n",
    "                     header_color='#40466e', row_colors=['#f1f1f2', 'w'], edge_color='w',\n",
    "                     bbox=[0, 0, 1, 1], header_columns=0,\n",
    "                     ax=None, **kwargs):\n",
    "    if ax is None:\n",
    "        size = (np.array(data.shape[::-1]) + np.array([0, 1])) * np.array([col_width, row_height])\n",
    "        fig, ax = plt.subplots(figsize=size)\n",
    "        ax.axis('off')\n",
    "\n",
    "    mpl_table = ax.table(cellText=data.values, bbox=bbox, colLabels=data.columns, **kwargs)\n",
    "\n",
    "    mpl_table.auto_set_font_size(False)\n",
    "    mpl_table.set_fontsize(font_size)\n",
    "\n",
    "    for k, cell in six.iteritems(mpl_table._cells):\n",
    "        cell.set_edgecolor(edge_color)\n",
    "        if k[0] == 0 or k[1] < header_columns:\n",
    "            cell.set_text_props(weight='bold', color='w')\n",
    "            cell.set_facecolor(header_color)\n",
    "        else:\n",
    "            cell.set_facecolor(row_colors[k[0]%len(row_colors) ])\n",
    "    return ax"
   ]
  },
  {
   "cell_type": "markdown",
   "metadata": {},
   "source": [
    "* Quantos tickets existem para um assunto\n",
    "* Quantos já foram consumidos\n",
    "* Quantos já foram retentados\n",
    "* Analista responsável\n",
    "\n"
   ]
  },
  {
   "cell_type": "code",
   "execution_count": 4,
   "metadata": {},
   "outputs": [],
   "source": [
    "base=payload.marchon_historic_base_payload()"
   ]
  },
  {
   "cell_type": "code",
   "execution_count": 5,
   "metadata": {},
   "outputs": [],
   "source": [
    "query = \"\"\"select id, client_id, department_id from clients\n",
    "where id = client_id\"\"\"\n",
    "\n",
    "\n",
    "valid = query_in_db(query, 'pagnet_read_replica.json')\n",
    "\n",
    "valid = valid.drop_duplicates()"
   ]
  },
  {
   "cell_type": "code",
   "execution_count": 6,
   "metadata": {},
   "outputs": [],
   "source": [
    "base = base.merge(valid[['client_id', 'department_id']].drop_duplicates(), on = 'client_id', how = 'left')"
   ]
  },
  {
   "cell_type": "code",
   "execution_count": 7,
   "metadata": {},
   "outputs": [],
   "source": [
    "base['segmentos'] = np.where(base['department_id']==45, 'Móveis', \n",
    "                            np.where((base['department_id']==6) | (base['department_id']==7)| (base['department_id']==8), 'Moda',\n",
    "                                    np.where(base['department_id']==25, 'LAG',\n",
    "                                            np.where(base['department_id']==36, 'Ótica', \n",
    "                                                    np.where(base['department_id']==9 , 'Colchões', 'not_found')))))\n",
    "\n",
    "\n",
    "base = base[base['segmentos']!='LAG' ]"
   ]
  },
  {
   "cell_type": "code",
   "execution_count": 8,
   "metadata": {},
   "outputs": [],
   "source": [
    "assunto = \"marchon_na_blu__base_historica\"\n",
    "assunto_2 = \"'marchon_na_blu__base_historica'\""
   ]
  },
  {
   "cell_type": "markdown",
   "metadata": {},
   "source": [
    "### Quantos tickets foram consumidos e retentados"
   ]
  },
  {
   "cell_type": "code",
   "execution_count": 9,
   "metadata": {},
   "outputs": [],
   "source": [
    "# Tickets Criados/Falados\n",
    "\n",
    "query = \"\"\"select id, client_id, user_id, email, cx_owner, id_zendesk_ticket, zendesk_ticket_created_at, status, can_be_send from zendesk_integration\n",
    "where subject = {} \"\"\".format(assunto_2)\n",
    "\n",
    "\n",
    "ticket_created = query_in_db(query, 'blu-rds-datascience.json')\n",
    "ticket_created = ticket_created.drop_duplicates()\n"
   ]
  },
  {
   "cell_type": "code",
   "execution_count": 10,
   "metadata": {},
   "outputs": [],
   "source": [
    "# Validar com Gabriel: ticket_talked significa que eles falaram com o lojista ou só tentaram entrar em contato?\n",
    "query = \"\"\"select zendesktickets.id id_zendesk_ticket from zendesktickets\n",
    "join zendeskusers on zendeskusers.id = zendesktickets.requester_id\n",
    "where (custom_fields_consegui_contato_ = 'sim__consegui_contato_com_os_números'\n",
    "    or custom_fields_conseguiu_falar_com_o_cliente_ = 'sim__consegui_contato_com_os_números'\n",
    "    or custom_fields_conseguiu_falar_com_o_cliente_ = 'novo_contato_agendado') \"\"\"\n",
    "\n",
    "ticket_talked = query_in_db(query,'blu_datascience.json')\n",
    "ticket_talked['id_zendesk_ticket'] = ticket_talked.id_zendesk_ticket.astype('int')\n"
   ]
  },
  {
   "cell_type": "code",
   "execution_count": 11,
   "metadata": {},
   "outputs": [],
   "source": [
    "# Validar com Gabriel: ticket_talked significa que eles falaram com o lojista ou só tentaram entrar em contato?\n",
    "query = \"\"\"select zendesktickets.id id_zendesk_ticket from zendesktickets\n",
    "join zendeskusers on zendeskusers.id = zendesktickets.requester_id\n",
    "\"\"\"\n",
    "\n",
    "ticket_tried = query_in_db(query,'blu_datascience.json')\n",
    "ticket_tried['id_zendesk_ticket'] = ticket_tried.id_zendesk_ticket.astype('int')\n"
   ]
  },
  {
   "cell_type": "code",
   "execution_count": 12,
   "metadata": {},
   "outputs": [],
   "source": [
    "ticket_talked = ticket_created[ticket_created.id_zendesk_ticket.isin(ticket_talked.id_zendesk_ticket)]\n",
    "ticket_tried = ticket_created[ticket_created.id_zendesk_ticket.isin(ticket_tried.id_zendesk_ticket)]"
   ]
  },
  {
   "cell_type": "code",
   "execution_count": 13,
   "metadata": {},
   "outputs": [],
   "source": [
    "ticket_table = ticket_talked.groupby(['client_id', 'cx_owner']).agg({'id_zendesk_ticket': lambda x: len(x)}).rename(columns={'id_zendesk_ticket': 'tickets_opened'}).reset_index()\n",
    "ticket_table = ticket_table.merge(base[['client_id', 'segmentos']].drop_duplicates(), on = 'client_id', how = 'left')\n",
    "ticket_tried_table = ticket_tried.groupby(['client_id', 'cx_owner']).agg({'id_zendesk_ticket': lambda x: len(x)}).rename(columns={'id_zendesk_ticket': 'tickets_tried'}).reset_index()\n",
    "# Quantos tickets foram falados por client_id/cx_owner / Retentados\n",
    "talked_clients = ticket_table['client_id'].nunique() # Quantos lojistas já foram falados/ Quantos tickets já foram consumidos."
   ]
  },
  {
   "cell_type": "code",
   "execution_count": 14,
   "metadata": {},
   "outputs": [],
   "source": [
    "# Tem gente que os acessores falaram sobre o assunto, mas não estão na base original\n",
    "base_ids = base['client_id'].unique()\n",
    "not_found = ticket_table[~ticket_table['client_id'].isin(base_ids)]\n",
    "not_found_ids = ticket_table[~ticket_table['client_id'].isin(base_ids)]['client_id']\n",
    "\n",
    "ticket_table = ticket_table[~ticket_table['client_id'].isin(not_found_ids)]\n",
    "talked_clients = ticket_table['client_id'].nunique()"
   ]
  },
  {
   "cell_type": "code",
   "execution_count": 15,
   "metadata": {},
   "outputs": [],
   "source": [
    "cx_owner_table = ticket_table.groupby(['cx_owner']).agg({'client_id': lambda x: len(x)}).rename(columns={'client_id': 'tickets_opened'}).reset_index()\n",
    "ticket_table_dept = ticket_table.groupby('segmentos').agg({'client_id': lambda x: len(x)}).reset_index().rename(columns={'client_id': 'falados_por_segmento'})"
   ]
  },
  {
   "cell_type": "code",
   "execution_count": 16,
   "metadata": {},
   "outputs": [],
   "source": [
    "ticket_retried = ticket_table.merge(ticket_tried_table, on =[ 'client_id','cx_owner'], how = 'left')\n",
    "ticket_retried['tickets_retried'] = ticket_retried['tickets_tried'] - ticket_retried['tickets_opened']\n",
    "ticket_retried = ticket_retried[ticket_retried['tickets_retried']>0] # Tabela de retentativas\n",
    "\n",
    "ticket_retried_total = ticket_retried['tickets_retried'].sum() # Total de retentativas"
   ]
  },
  {
   "cell_type": "code",
   "execution_count": 17,
   "metadata": {},
   "outputs": [],
   "source": [
    "ticket_retried_segmentos = ticket_retried.groupby('segmentos').agg({'tickets_retried': lambda x: x.sum()}).reset_index().rename(columns={'tickets_retried': 'Retentativas'})"
   ]
  },
  {
   "cell_type": "code",
   "execution_count": 18,
   "metadata": {},
   "outputs": [],
   "source": [
    "tables_list = []\n",
    "\n",
    "final_date = pd.to_datetime('today') \n",
    "start_date = ticket_created['zendesk_ticket_created_at'].min()\n",
    "\n",
    "while start_date <= final_date:\n",
    "    \n",
    "    end_date = start_date + timedelta(days = 7)\n",
    "    \n",
    "    if end_date > final_date:\n",
    "        end_date = final_date\n",
    "\n",
    "    \n",
    "    ticket_created_week = ticket_created[(ticket_created['zendesk_ticket_created_at']>=start_date)&(ticket_created['zendesk_ticket_created_at']<end_date)]\n",
    "    ticket_talked_week = ticket_created_week[ticket_created_week.id_zendesk_ticket.isin(ticket_talked.id_zendesk_ticket)]\n",
    "    ticket_tried_week = ticket_created_week[ticket_created_week.id_zendesk_ticket.isin(ticket_tried.id_zendesk_ticket)]\n",
    "    \n",
    "    ticket_table_week = ticket_talked_week.groupby(['client_id', 'cx_owner']).agg({'id_zendesk_ticket': lambda x: len(x)}).rename(columns={'id_zendesk_ticket': 'tickets_opened'}).reset_index()\n",
    "    ticket_tried_table_week = ticket_tried_week.groupby(['client_id', 'cx_owner']).agg({'id_zendesk_ticket': lambda x: len(x)}).rename(columns={'id_zendesk_ticket': 'tickets_tried'}).reset_index()\n",
    "    \n",
    "    cx_owner_table_week = ticket_talked_week.groupby(['cx_owner']).agg({'id_zendesk_ticket': lambda x: len(x)}).rename(columns={'id_zendesk_ticket': 'tickets_opened'}).reset_index()\n",
    "    \n",
    "    ticket_retried_week = ticket_table_week.merge(ticket_tried_table_week, on =[ 'client_id','cx_owner'], how = 'left')\n",
    "\n",
    "    ticket_retried_week['tickets_retried'] = ticket_retried_week['tickets_tried'] - ticket_retried_week['tickets_opened']\n",
    "    retried_week = ticket_retried_week.groupby('cx_owner')['tickets_retried'].sum().reset_index()\n",
    "    \n",
    "    final_data = cx_owner_table_week.merge(retried_week, on = 'cx_owner', how = 'left')\n",
    "    final_data.fillna(0, inplace = True)\n",
    "    final_data['Início da Semana'] = start_date\n",
    "    final_data['Fim da Semana'] = end_date\n",
    "    \n",
    "    final_data['Início da Semana'] = final_data['Início da Semana'].astype(str).str.slice(0,10)\n",
    "    final_data['Fim da Semana'] = final_data['Fim da Semana'].astype(str).str.slice(0,10)\n",
    "    \n",
    "    final_data.rename(columns={'tickets_opened': 'Redes Contactadas',\n",
    "                              'cx_owner': 'Analista Responsavel',\n",
    "                              'tickets_retried': 'Retentativas'}, inplace = True)\n",
    "    tables_list.append(final_data)\n",
    "\n",
    "    \n",
    "    start_date = end_date\n",
    "    \n",
    "    if start_date + timedelta(days=1) > final_date:\n",
    "        break\n"
   ]
  },
  {
   "cell_type": "markdown",
   "metadata": {},
   "source": [
    "### Quantos tickets existem para um assunto/Analista Responsável"
   ]
  },
  {
   "cell_type": "code",
   "execution_count": 19,
   "metadata": {},
   "outputs": [],
   "source": [
    "query = \"\"\"select email email, user_fields_gestor_rentabilizacao from zendeskusers\n",
    "\n",
    "    where 1=1\n",
    "    and user_fields_gestor_rentabilizacao is not  null\n",
    "    --and phone is not null\n",
    "    \"\"\"\n",
    "\n",
    "x = sqlio.read_sql_query(query, con_pipe)\n",
    "\n",
    "base = base.merge(x, on = 'email', how = 'left')\n",
    "\n",
    "\n",
    "base = base.dropna(subset = ['user_fields_gestor_rentabilizacao'])"
   ]
  },
  {
   "cell_type": "code",
   "execution_count": 20,
   "metadata": {},
   "outputs": [],
   "source": [
    "null_emails = base[base['user_fields_gestor_rentabilizacao'].isnull()]['email']\n",
    "null_emails_segmentos =  base[base['user_fields_gestor_rentabilizacao'].isnull()].groupby('segmentos').agg({'client_id': lambda x: len(x)}).reset_index().rename(columns = {'client_id': 'sem_analista'})\n",
    "number_null_emails = null_emails.shape[0]"
   ]
  },
  {
   "cell_type": "code",
   "execution_count": null,
   "metadata": {},
   "outputs": [],
   "source": []
  },
  {
   "cell_type": "code",
   "execution_count": 21,
   "metadata": {},
   "outputs": [],
   "source": [
    "base = base.drop_duplicates('client_id')"
   ]
  },
  {
   "cell_type": "code",
   "execution_count": 22,
   "metadata": {},
   "outputs": [],
   "source": [
    "cx_owner_count = base.groupby('user_fields_gestor_rentabilizacao').count()\n",
    "#cx_owner_count # Número original de tickets por assessor"
   ]
  },
  {
   "cell_type": "code",
   "execution_count": 23,
   "metadata": {},
   "outputs": [],
   "source": [
    "original_number = base.shape[0] \n",
    "original_dept = base.groupby('segmentos').agg({'client_id': lambda x: len(x)}).reset_index().rename(columns={'client_id': 'falados_por_segmento'})"
   ]
  },
  {
   "cell_type": "code",
   "execution_count": 24,
   "metadata": {},
   "outputs": [],
   "source": [
    "valid = base.copy()"
   ]
  },
  {
   "cell_type": "code",
   "execution_count": 25,
   "metadata": {},
   "outputs": [],
   "source": [
    "### Retira caras que já falamos sobre esse assunto\n",
    "\n",
    "\n",
    "base=cs.already_talked_about_it(base, assunto)\n",
    "to_calculate_last_talked = base.shape[0]"
   ]
  },
  {
   "cell_type": "code",
   "execution_count": 26,
   "metadata": {},
   "outputs": [],
   "source": [
    "last_days_talked = valid[~valid['client_id'].isin(base['client_id'])]\n",
    "last_days_segmento =  last_days_talked.groupby('segmentos').agg({'client_id': lambda x: len(x)}).reset_index().rename(columns={'client_id': 'filtrados_por_segmento'})"
   ]
  },
  {
   "cell_type": "code",
   "execution_count": 27,
   "metadata": {},
   "outputs": [
    {
     "name": "stdout",
     "output_type": "stream",
     "text": [
      "Check!! Tudo certo até aqui!\n"
     ]
    }
   ],
   "source": [
    "sanity_test = original_number  - base.shape[0] # Base total menos esse valor é a quantidade de quantos já falamos sobre esse assunto\n",
    "\n",
    "\n",
    "if sanity_test == talked_clients:\n",
    "    print('Check!! Tudo certo até aqui!')\n",
    "else:\n",
    "    print('O número de clientes contactados não bate com o filtro de falados')"
   ]
  },
  {
   "cell_type": "code",
   "execution_count": 28,
   "metadata": {},
   "outputs": [],
   "source": [
    "valid_2 = base.copy()"
   ]
  },
  {
   "cell_type": "code",
   "execution_count": 29,
   "metadata": {
    "scrolled": true
   },
   "outputs": [],
   "source": [
    "### Retira caras que já falamos nos últims \"days\" dias\n",
    "days = 15\n",
    "base=cs.past_tickets(base, days = days)"
   ]
  },
  {
   "cell_type": "code",
   "execution_count": 30,
   "metadata": {},
   "outputs": [],
   "source": [
    "already_talked = valid_2[~valid_2['client_id'].isin(base['client_id'])]\n",
    "already_talked_segmento =  already_talked.groupby('segmentos').agg({'client_id': lambda x: len(x)}).reset_index().rename(columns={'client_id': 'filtrados_por_segmento'})"
   ]
  },
  {
   "cell_type": "code",
   "execution_count": 31,
   "metadata": {},
   "outputs": [],
   "source": [
    "already_talked_last_days = to_calculate_last_talked - base.shape[0]\n",
    "to_contact_number = base[~base['user_fields_gestor_rentabilizacao'].isnull()].shape[0]# Número restante de lojistas a serem impactados\n",
    "#already_talked_last_days # Quantos nós já impactamos com outros assuntos nos últimos {days} dias."
   ]
  },
  {
   "cell_type": "code",
   "execution_count": 32,
   "metadata": {},
   "outputs": [],
   "source": [
    "to_contact_segmentos = base.groupby('segmentos').agg({'client_id': lambda x: len(x)}).reset_index().rename(columns = {'client_id': 'Falados por Segmento'})"
   ]
  },
  {
   "cell_type": "code",
   "execution_count": 33,
   "metadata": {},
   "outputs": [],
   "source": [
    "# Retirando quem já falamos no dias\n",
    "\n",
    "# base=cs.today_tickets(base)"
   ]
  },
  {
   "cell_type": "code",
   "execution_count": 34,
   "metadata": {},
   "outputs": [],
   "source": [
    "#text_as_html=pd.read_csv('text_as_html.csv')\n",
    "\n",
    "#text_as_html['texto'] = assunto_texto  + text_as_html.text\n",
    "\n",
    "#base = base.merge(text_as_html[['client_id','text']] , on = 'client_id')"
   ]
  },
  {
   "cell_type": "markdown",
   "metadata": {},
   "source": [
    "### Subindo "
   ]
  },
  {
   "cell_type": "code",
   "execution_count": 35,
   "metadata": {},
   "outputs": [
    {
     "name": "stdout",
     "output_type": "stream",
     "text": [
      "Os números batem!!\n"
     ]
    }
   ],
   "source": [
    "if cx_owner_count['client_id'].sum()== original_dept['falados_por_segmento'].sum():\n",
    "    print('Os números batem!!')\n",
    "else:\n",
    "    print('Os números não conversam. REVISÃO É NECESSÁRIA!')"
   ]
  },
  {
   "cell_type": "code",
   "execution_count": 36,
   "metadata": {},
   "outputs": [
    {
     "name": "stdout",
     "output_type": "stream",
     "text": [
      "Os números batem!!\n"
     ]
    }
   ],
   "source": [
    "if talked_clients == ticket_table_dept['falados_por_segmento'].sum():\n",
    "    print('Os números batem!!')\n",
    "else:\n",
    "    print('Os números não conversam. REVISÃO É NECESSÁRIA!')"
   ]
  },
  {
   "cell_type": "code",
   "execution_count": 37,
   "metadata": {},
   "outputs": [
    {
     "name": "stdout",
     "output_type": "stream",
     "text": [
      "Os números batem!!\n"
     ]
    }
   ],
   "source": [
    "if original_number - (talked_clients+already_talked_last_days) == to_contact_number:\n",
    "    print('Os números batem!!')\n",
    "else:\n",
    "    print('Os números não conversam. REVISÃO É NECESSÁRIA!')"
   ]
  },
  {
   "cell_type": "code",
   "execution_count": 38,
   "metadata": {},
   "outputs": [
    {
     "data": {
      "text/plain": [
       "446"
      ]
     },
     "execution_count": 38,
     "metadata": {},
     "output_type": "execute_result"
    }
   ],
   "source": [
    "talked_clients # Quantos lojistas já foram falados/ Quantos tickets já foram consumidos.\n",
    " \n",
    "ticket_retried # Tabela de retentativas\n",
    "cx_owner_count # Número original de tickets por assessor\n",
    "null_emails # Emails sem assessor\n",
    "\n",
    "\n",
    "original_dept # Número original por departamento\n",
    "ticket_table_dept # Consumidos por departamento\n",
    "\n",
    "original_number # é o número inicial da população a ser impactada\n",
    "ticket_retried_total # Total de retentativas\n",
    "\n",
    "to_contact_segmentos # Faltantes por segmento\n",
    "already_talked_last_days # Quantos nós já impactamos com outros assuntos nos últimos {days} dias.\n",
    "to_contact_number  # Número restante de lojistas a serem impactados"
   ]
  },
  {
   "cell_type": "code",
   "execution_count": 39,
   "metadata": {},
   "outputs": [
    {
     "data": {
      "image/png": "[encoded data removed]",
      "text/plain": [
       "<Figure size 576x90 with 1 Axes>"
      ]
     },
     "metadata": {
      "needs_background": "light"
     },
     "output_type": "display_data"
    }
   ],
   "source": [
    "to_contact_segmentos_figure = render_mpl_table(to_contact_segmentos)\n",
    "to_contact_segmentos.rename(columns={'Falados por Segmento':'faltantes_por_segmento'}, inplace = True)\n",
    "to_contact_segmentos_figure.figure.savefig('./images/to_contact_segmentos_{}.png'.format(assunto), bbox_inches='tight', pad_inches=0)"
   ]
  },
  {
   "cell_type": "code",
   "execution_count": 40,
   "metadata": {},
   "outputs": [
    {
     "data": {
      "image/png": "[encoded data removed]",
      "text/plain": [
       "<Figure size 576x90 with 1 Axes>"
      ]
     },
     "metadata": {
      "needs_background": "light"
     },
     "output_type": "display_data"
    }
   ],
   "source": [
    "original_dept_figure = render_mpl_table(original_dept)\n",
    "original_dept.rename(columns={'falados_por_segmento':'total_por_segmento'}, inplace = True)\n",
    "original_dept_figure.figure.savefig('./images/original_dept_{}.png'.format(assunto), bbox_inches='tight', pad_inches=0)"
   ]
  },
  {
   "cell_type": "code",
   "execution_count": 41,
   "metadata": {},
   "outputs": [
    {
     "data": {
      "image/png": "[encoded data removed]",
      "text/plain": [
       "<Figure size 576x90 with 1 Axes>"
      ]
     },
     "metadata": {
      "needs_background": "light"
     },
     "output_type": "display_data"
    }
   ],
   "source": [
    "ticket_table_dept_figure = render_mpl_table(ticket_table_dept)\n",
    "ticket_table_dept_figure.figure.savefig('./images/ticket_table_dept_{}.png'.format(assunto), bbox_inches='tight', pad_inches=0)"
   ]
  },
  {
   "cell_type": "code",
   "execution_count": 42,
   "metadata": {},
   "outputs": [
    {
     "data": {
      "image/png": "[encoded data removed]",
      "text/plain": [
       "<Figure size 576x225 with 1 Axes>"
      ]
     },
     "metadata": {
      "needs_background": "light"
     },
     "output_type": "display_data"
    }
   ],
   "source": [
    "cx_owner_left = base.copy()\n",
    "cx_owner_left = base.groupby('user_fields_gestor_rentabilizacao').count()\n",
    "cx_owner_left = cx_owner_left[['client_id']].reset_index()\n",
    "\n",
    "cx_owner_left.rename(columns={'client_id':\n",
    "                                             'Lojistas Faltantes',\n",
    "                                             'user_fields_gestor_rentabilizacao': 'Analista Responsável'}, inplace = True)\n",
    "\n",
    "cx_owner_initial_figure = render_mpl_table(cx_owner_left)\n",
    "cx_owner_initial_figure.figure.savefig('./images/cx_owner_left_{}.png'.format(assunto), bbox_inches='tight', pad_inches=0)"
   ]
  },
  {
   "cell_type": "code",
   "execution_count": 43,
   "metadata": {},
   "outputs": [
    {
     "data": {
      "text/html": [
       "<div>\n",
       "<style scoped>\n",
       "    .dataframe tbody tr th:only-of-type {\n",
       "        vertical-align: middle;\n",
       "    }\n",
       "\n",
       "    .dataframe tbody tr th {\n",
       "        vertical-align: top;\n",
       "    }\n",
       "\n",
       "    .dataframe thead th {\n",
       "        text-align: right;\n",
       "    }\n",
       "</style>\n",
       "<table border=\"1\" class=\"dataframe\">\n",
       "  <thead>\n",
       "    <tr style=\"text-align: right;\">\n",
       "      <th></th>\n",
       "      <th>cx_owner</th>\n",
       "      <th>tickets_opened</th>\n",
       "    </tr>\n",
       "  </thead>\n",
       "  <tbody>\n",
       "    <tr>\n",
       "      <th>0</th>\n",
       "      <td>julio_pinto_da_silva</td>\n",
       "      <td>16</td>\n",
       "    </tr>\n",
       "    <tr>\n",
       "      <th>1</th>\n",
       "      <td>kathlen_marmello</td>\n",
       "      <td>18</td>\n",
       "    </tr>\n",
       "    <tr>\n",
       "      <th>2</th>\n",
       "      <td>patrick_gomes_lima_souza</td>\n",
       "      <td>7</td>\n",
       "    </tr>\n",
       "    <tr>\n",
       "      <th>3</th>\n",
       "      <td>rosana_pinto_weirich</td>\n",
       "      <td>1</td>\n",
       "    </tr>\n",
       "  </tbody>\n",
       "</table>\n",
       "</div>"
      ],
      "text/plain": [
       "                   cx_owner  tickets_opened\n",
       "0      julio_pinto_da_silva              16\n",
       "1          kathlen_marmello              18\n",
       "2  patrick_gomes_lima_souza               7\n",
       "3      rosana_pinto_weirich               1"
      ]
     },
     "execution_count": 43,
     "metadata": {},
     "output_type": "execute_result"
    }
   ],
   "source": [
    "cx_owner_table"
   ]
  },
  {
   "cell_type": "code",
   "execution_count": 44,
   "metadata": {},
   "outputs": [
    {
     "data": {
      "image/png": "[encoded data removed]",
      "text/plain": [
       "<Figure size 576x225 with 1 Axes>"
      ]
     },
     "metadata": {
      "needs_background": "light"
     },
     "output_type": "display_data"
    }
   ],
   "source": [
    "cx_owner_table.rename(columns={'tickets_opened': 'Total de Falados',\n",
    "                              'cx_owner': 'Analista Responsável'}, inplace = True) # Quantos cada assessor já falou\n",
    "cx_owner_table_figure = render_mpl_table(cx_owner_table)\n",
    "cx_owner_table_figure.figure.savefig('./images/cx_owner_table_{}.png'.format(assunto), bbox_inches='tight', pad_inches=0)"
   ]
  },
  {
   "cell_type": "code",
   "execution_count": 45,
   "metadata": {
    "scrolled": true
   },
   "outputs": [],
   "source": [
    "ticket_retried.rename(columns={'tickets_retried': 'Retentativas',\n",
    "                              'cx_owner': 'Analista Responsável'}, inplace = True)\n",
    "\n",
    "retrial = ticket_retried[['Analista Responsável', 'Retentativas']].groupby('Analista Responsável').sum().reset_index()\n",
    "\n",
    "#cx_owner_retried_figure = render_mpl_table(retrial) # Quantos cada assessor já falou\n",
    "#cx_owner_retried_figure.figure.savefig('./images/cx_owner_retried_{}.png'.format(assunto), bbox_inches='tight', pad_inches=0)\n"
   ]
  },
  {
   "cell_type": "code",
   "execution_count": 46,
   "metadata": {},
   "outputs": [
    {
     "data": {
      "image/png": "[encoded data removed]",
      "text/plain": [
       "<Figure size 576x225 with 1 Axes>"
      ]
     },
     "metadata": {
      "needs_background": "light"
     },
     "output_type": "display_data"
    }
   ],
   "source": [
    "cx_owner_count = cx_owner_count[['client_id']].reset_index()\n",
    "cx_owner_count.rename(columns={'client_id':\n",
    "                                             'Lojistas para Contato',\n",
    "                                             'user_fields_gestor_rentabilizacao': 'Analista Responsável'}, inplace = True)\n",
    "\n",
    "cx_owner_initial_figure = render_mpl_table(cx_owner_count)\n",
    "cx_owner_initial_figure.figure.savefig('./images/cx_owner_count_{}.png'.format(assunto), bbox_inches='tight', pad_inches=0, dpi=199)"
   ]
  },
  {
   "cell_type": "code",
   "execution_count": 47,
   "metadata": {},
   "outputs": [],
   "source": [
    "cx_table = None\n",
    "cx_table = cx_owner_count.merge(cx_owner_table, on = 'Analista Responsável', how = 'left')\n",
    "#cx_table = cx_table.merge(retrial, on = 'Analista Responsável', how = 'left')\n",
    "cx_table = cx_table.merge(cx_owner_left, on = 'Analista Responsável', how = 'left')\n",
    "cx_table.fillna(0, inplace = True)\n",
    "\n",
    "cx_table['Total de Falados'] = cx_table['Total de Falados'].astype(int)\n",
    "#cx_table['Retentativas'] = cx_table['Retentativas'].astype(int)\n",
    "cx_table['Lojistas Faltantes'] = cx_table['Lojistas Faltantes'].astype(int)\n",
    "cx_table.rename(columns={'Lojistas para Contato': 'Total Tickets',\n",
    "                        'Total de Falados': 'Tickets Consumidos',\n",
    "                        'Lojistas Faltantes': 'Tickets Restantes'}, inplace = True)\n",
    "\n",
    "#cx_table['Assunto'] = 'marchon_base_historica'\n",
    "cx_table.loc[\"Total\"] = cx_table.sum()\n",
    "cx_table['Analista Responsável'].iloc[-1] = 'Total'\n",
    "pickle.dump( cx_table, open( \"./data/cx_table_marchon_base_historica.pickle\", \"wb\" ) )\n",
    "\n",
    "\n",
    "\n",
    "\n",
    "\n"
   ]
  },
  {
   "cell_type": "code",
   "execution_count": 48,
   "metadata": {},
   "outputs": [
    {
     "data": {
      "image/png": "[encoded data removed]",
      "text/plain": [
       "<Figure size 1152x270 with 1 Axes>"
      ]
     },
     "metadata": {
      "needs_background": "light"
     },
     "output_type": "display_data"
    }
   ],
   "source": [
    "cx_table_figure_marchon_base_historica = render_mpl_table(cx_table) \n",
    "cx_table_figure_marchon_base_historica.figure.savefig('./images/cx_table_figure_marchon_base_historica.png', bbox_inches='tight', pad_inches=0, dpi=199)"
   ]
  },
  {
   "cell_type": "code",
   "execution_count": 49,
   "metadata": {},
   "outputs": [
    {
     "data": {
      "image/png": "[encoded data removed]",
      "text/plain": [
       "<Figure size 1440x225 with 1 Axes>"
      ]
     },
     "metadata": {
      "needs_background": "light"
     },
     "output_type": "display_data"
    }
   ],
   "source": [
    "\n",
    "document = Document()\n",
    "\n",
    "document.add_heading('Dia {} - Report de Tickets'.format(pd.to_datetime('today').strftime(\"%Y-%m-%d\")), 0)\n",
    "\n",
    "\n",
    "document.add_heading('Assunto: Marchon Base Histórica', level=1)\n",
    "document.paragraphs[0].text\n",
    "\n",
    "document.add_paragraph('Número Total de Redes: {}'.format(original_number))\n",
    "\n",
    "          \n",
    "          \n",
    "document.add_paragraph('Redes Contactadas: {}'.format(talked_clients), style='List Number')\n",
    "document.add_paragraph('Número de Redes Filtradas: {}'.format(already_talked_last_days), style='List Number')\n",
    "#document.add_paragraph('Número de Lojistas sem Assessor Definido: {}'.format(number_null_emails), style='List Number')\n",
    "document.add_paragraph('Redes Restantes: {}'.format(to_contact_number), style='List Bullet')\n",
    "\n",
    "\n",
    "paragraph = document.add_paragraph('Visão Macro')\n",
    "paragraph.alignment = WD_ALIGN_PARAGRAPH.CENTER\n",
    "document.add_picture('./images/cx_table_figure_marchon_base_historica.png', width=Inches(7.1))\n",
    "last_paragraph = document.paragraphs[-1] \n",
    "last_paragraph.alignment = WD_ALIGN_PARAGRAPH.CENTER\n",
    "\n",
    "paragraph = document.add_paragraph('Visão Semana')\n",
    "paragraph.alignment = WD_ALIGN_PARAGRAPH.CENTER\n",
    "for i in range(0, len(tables_list)):\n",
    "    table = render_mpl_table(tables_list[i]) \n",
    "    table.figure.savefig('./images/cx_table_week_{}_marchon_historico.png'.format(i), bbox_inches='tight', pad_inches=0, dpi=199)\n",
    "    document.add_picture('./images/cx_table_week_{}_marchon_historico.png'.format(i), width=Inches(7.1))\n",
    "    last_paragraph = document.paragraphs[-1] \n",
    "    last_paragraph.alignment = WD_ALIGN_PARAGRAPH.CENTER\n",
    "\n",
    "document.save('/home/ubuntu/victor_projects/ticket_tracking_remade/reports/marchon_base_historica_report.docx')"
   ]
  },
  {
   "cell_type": "code",
   "execution_count": 50,
   "metadata": {},
   "outputs": [],
   "source": [
    "talked_clients_marchon_base_historica = talked_clients\n",
    "pickle.dump( talked_clients_marchon_base_historica, open( \"./data/talked_clients_marchon_base_historica.pickle\", \"wb\" ) )\n",
    "\n",
    "original_number_marchon_base_historica = original_number\n",
    "pickle.dump( original_number_marchon_base_historica, open( \"./data/original_number_marchon_base_historica.pickle\", \"wb\" ) )\n",
    "\n",
    "to_contact_number_marchon_base_historica = to_contact_number\n",
    "pickle.dump( to_contact_number_marchon_base_historica, open( \"./data/to_contact_number_marchon_base_historica.pickle\", \"wb\" ) )\n",
    "\n",
    "already_talked_last_days_marchon_base_historica = already_talked_last_days\n",
    "pickle.dump( already_talked_last_days_marchon_base_historica, open( \"./data/already_talked_last_days_marchon_base_historica.pickle\", \"wb\" ) )\n",
    "\n",
    "number_null_emails_marchon_base_historica = number_null_emails\n",
    "pickle.dump( number_null_emails_marchon_base_historica, open( \"./data/number_null_emails_marchon_base_historica.pickle\", \"wb\" ) )\n",
    "\n",
    "original_dept_marchon_base_historica = original_dept\n",
    "pickle.dump( original_dept_marchon_base_historica, open( \"./data/original_dept_marchon_base_historica.pickle\", \"wb\" ) )\n",
    "\n",
    "to_contact_segmentos_marchon_base_historica = to_contact_segmentos\n",
    "pickle.dump( to_contact_segmentos_marchon_base_historica, open( \"./data/to_contact_segmentos_marchon_base_historica.pickle\", \"wb\" ) )\n",
    "\n",
    "null_emails_segmentos_marchon_base_historica = null_emails_segmentos\n",
    "pickle.dump( null_emails_segmentos_marchon_base_historica, open( \"./data/null_emails_segmentos_marchon_base_historica.pickle\", \"wb\" ) )\n",
    "\n",
    "last_days_segmento_marchon_base_historica = last_days_segmento\n",
    "pickle.dump( last_days_segmento_marchon_base_historica, open( \"./data/last_days_segmento_marchon_base_historica.pickle\", \"wb\" ) )\n",
    "\n",
    "ticket_table_dept_marchon_base_historica = ticket_table_dept\n",
    "pickle.dump( ticket_table_dept_marchon_base_historica, open( \"./data/ticket_table_dept_marchon_base_historica.pickle\", \"wb\" ) )\n",
    "\n",
    "already_talked_segmento_marchon_base_historica = already_talked_segmento\n",
    "pickle.dump( already_talked_segmento_marchon_base_historica, open( \"./data/already_talked_segmento_marchon_base_historica.pickle\", \"wb\" ) )"
   ]
  },
  {
   "cell_type": "code",
   "execution_count": 51,
   "metadata": {},
   "outputs": [],
   "source": [
    "cx_table = None\n",
    "cx_table = cx_owner_count.merge(cx_owner_table, on = 'Analista Responsável', how = 'left')\n",
    "cx_table = cx_table.merge(retrial, on = 'Analista Responsável', how = 'left')\n",
    "cx_table = cx_table.merge(cx_owner_left, on = 'Analista Responsável', how = 'left')\n",
    "cx_table.fillna(0, inplace = True)\n",
    "\n",
    "cx_table['Total de Falados'] = cx_table['Total de Falados'].astype(int)\n",
    "cx_table['Retentativas'] = cx_table['Retentativas'].astype(int)\n",
    "cx_table['Lojistas Faltantes'] = cx_table['Lojistas Faltantes'].astype(int)\n",
    "cx_table.rename(columns={'Lojistas para Contato': 'Total Tickets',\n",
    "                        'Total de Falados': 'Tickets Consumidos',\n",
    "                        'Lojistas Faltantes': 'Tickets Restantes'}, inplace = True)\n",
    "\n",
    "cx_table['Assunto'] = 'marchon_base_historica'\n",
    "\n",
    "pickle.dump( cx_table, open( \"./data/cx_table_marchon_base_historica.pickle\", \"wb\" ) )"
   ]
  },
  {
   "cell_type": "code",
   "execution_count": 52,
   "metadata": {},
   "outputs": [],
   "source": [
    "segmento_table = None\n",
    "segmento_table = original_dept_marchon_base_historica.merge(to_contact_segmentos_marchon_base_historica, on = 'segmentos', how = 'left')\n",
    "segmento_table = segmento_table.merge(ticket_table_dept_marchon_base_historica, on = 'segmentos', how = 'left')\n",
    "segmento_table = segmento_table.merge(already_talked_segmento_marchon_base_historica, on = 'segmentos', how = 'left')\n",
    "segmento_table = segmento_table.merge(ticket_retried_segmentos, on = 'segmentos', how = 'left')\n",
    "\n",
    "\n",
    "segmento_table.fillna(0, inplace = True)\n",
    "segmento_table['falados_por_segmento'] = segmento_table['falados_por_segmento'].astype(int)\n",
    "segmento_table['filtrados_por_segmento'] = segmento_table['filtrados_por_segmento'].astype(int)\n",
    "segmento_table['Retentativas'] = segmento_table['Retentativas'].astype(int)\n",
    "segmento_table['Assunto'] = 'Marchon Base Histórica'\n",
    "\n",
    "segmento_table.rename(columns={'total_por_segmento': 'Total Tickets',\n",
    "                                'total_por_segmento': 'Tickets Restantes',\n",
    "                              'falados_por_segmento': 'Tickets Consumidos',\n",
    "                              'filtrados_por_segmento': 'Tickets Negativados'}, inplace = True)\n",
    "\n",
    "pickle.dump( segmento_table, open( \"./data/segmento_table_marchon_base_historica.pickle\", \"wb\" ) )"
   ]
  },
  {
   "cell_type": "code",
   "execution_count": null,
   "metadata": {},
   "outputs": [],
   "source": []
  }
 ],
 "metadata": {
  "kernelspec": {
   "display_name": "Python 3",
   "language": "python",
   "name": "python3"
  },
  "language_info": {
   "codemirror_mode": {
    "name": "ipython",
    "version": 3
   },
   "file_extension": ".py",
   "mimetype": "text/x-python",
   "name": "python",
   "nbconvert_exporter": "python",
   "pygments_lexer": "ipython3",
   "version": "3.7.7"
  }
 },
 "nbformat": 4,
 "nbformat_minor": 2
}
