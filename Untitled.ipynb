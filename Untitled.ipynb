{
 "cells": [
  {
   "cell_type": "code",
   "execution_count": 1,
   "metadata": {},
   "outputs": [],
   "source": [
    "from docx import Document\n",
    "from docx.shared import Inches\n",
    "from docx.enum.text import WD_ALIGN_PARAGRAPH\n",
    "from blupy.connections.db_connections import query_in_db as query_in_db\n",
    "import pickle\n",
    "import payload\n",
    "import six\n",
    "import boto3\n",
    "import sys\n",
    "import pandas as pd\n",
    "import json\n",
    "from sqlalchemy import create_engine\n",
    "import time\n",
    "S3 = boto3.resource('s3')\n",
    "\n",
    "\n",
    "def extract_file_as_string(path):\n",
    "    s3_object = S3.Object('blu-etl', path)\n",
    "    return s3_object.get()['Body'].read().decode('utf-8')\n",
    "\n",
    "\n",
    "\n",
    "def connect(credentials_name):\n",
    "    credentials = json.loads(extract_file_as_string(\n",
    "        'credentials/' + credentials_name))\n",
    "    \n",
    "    return create_engine('postgresql://{0}:{1}@{2}:{3}/{4}'\n",
    "                        .format(credentials['user'], \n",
    "                                credentials['passwd'],\n",
    "                                credentials['host'],\n",
    "                                credentials['port'],\n",
    "                                credentials['dbname']))"
   ]
  },
  {
   "cell_type": "code",
   "execution_count": 2,
   "metadata": {},
   "outputs": [],
   "source": [
    "import pandas as pd\n",
    "import psycopg2\n",
    "import pandas.io.sql as sqlio\n",
    "import numpy as np\n",
    "import os,sys, inspect\n",
    "from sklearn.preprocessing import LabelEncoder\n",
    "import db_connections\n",
    "import boto3\n",
    "from datetime import datetime\n",
    "from s3 import *\n",
    "import utils\n",
    "import client_score_basic_functions as cs\n",
    "import payload\n",
    "import matplotlib.pyplot as plt\n",
    "\n",
    "from os import walk\n",
    "\n",
    "import seaborn as sns\n",
    "import warnings\n",
    "warnings.filterwarnings('ignore')\n",
    "pd.set_option('display.max_columns', None)\n",
    "pd.set_option('display.max_rows', 500)\n",
    "pd.set_option('display.float_format', lambda x: '%.3f' % x)\n",
    "\n",
    "con_destiny = db_connections.connect('blu-rds-datascience.json')\n",
    "con_pipe = db_connections.connect('blu_datascience.json')\n",
    "con_pagnet_production = db_connections.connect('pagnet_read_replica.json')\n",
    "con_send=connect('blu-rds-datascience.json')"
   ]
  },
  {
   "cell_type": "code",
   "execution_count": 72,
   "metadata": {},
   "outputs": [],
   "source": [
    "assuntos = [\"'reserva_na_blu'\",\n",
    "\"'araplac_na_blu'\",\n",
    "\"'marchon_na_blu__já_compram'\",\n",
    "\"'gazin_na_blu'\",\n",
    "\"'recebeu_boleto_blu'\",\n",
    "\"'cliente_novo'\",\n",
    "\"'pagamento_por_ted_boleto'\",\n",
    "\"'compra_só_com_1_fornecedor'\"]"
   ]
  },
  {
   "cell_type": "code",
   "execution_count": 74,
   "metadata": {},
   "outputs": [],
   "source": [
    "for assunto_2 in assuntos:\n",
    "    query = \"\"\"select id, client_id, user_id, email, cx_owner, id_zendesk_ticket, zendesk_ticket_created_at, status, can_be_send from zendesk_integration\n",
    "where subject = {} \"\"\".format(assunto_2)\n",
    "\n",
    "\n",
    "    ticket_created = query_in_db(query, 'blu-rds-datascience.json')\n",
    "    ticket_created = ticket_created.drop_duplicates()\n",
    "    \n",
    "    query = \"\"\"select zendesktickets.id id_zendesk_ticket from zendesktickets\n",
    "join zendeskusers on zendeskusers.id = zendesktickets.requester_id\n",
    "where (custom_fields_consegui_contato_ = 'sim__consegui_contato_com_os_números'\n",
    "    or custom_fields_conseguiu_falar_com_o_cliente_ = 'sim__consegui_contato_com_os_números'\n",
    "    or custom_fields_conseguiu_falar_com_o_cliente_ = 'novo_contato_agendado') \"\"\"\n",
    "\n",
    "    ticket_talked = query_in_db(query,'blu_datascience.json')\n",
    "    ticket_talked['id_zendesk_ticket'] = ticket_talked.id_zendesk_ticket.astype('int')\n",
    "\n",
    "    ticket_talked = ticket_created[ticket_created.id_zendesk_ticket.isin(ticket_talked.id_zendesk_ticket)]\n",
    "    ticket_talked\n",
    "    link = 'https://useblu.zendesk.com/agent/tickets/'\n",
    "    ticket_talked['zendesk_calls'] = link + ticket_talked['id_zendesk_ticket'].astype(str)\n",
    "    ticket_talked[['client_id','zendesk_calls']].to_csv('zendesk_calls_{}.csv'.format(assunto_2))"
   ]
  },
  {
   "cell_type": "code",
   "execution_count": 62,
   "metadata": {},
   "outputs": [],
   "source": [
    "query = \"\"\"select id, client_id, user_id, email, cx_owner, id_zendesk_ticket, zendesk_ticket_created_at, status, can_be_send from zendesk_integration\n",
    "where subject = {} \"\"\".format(assunto_2)\n",
    "\n",
    "\n",
    "ticket_created = query_in_db(query, 'blu-rds-datascience.json')\n",
    "ticket_created = ticket_created.drop_duplicates()\n",
    "\n",
    "\n"
   ]
  },
  {
   "cell_type": "code",
   "execution_count": 63,
   "metadata": {},
   "outputs": [],
   "source": [
    "# Validar com Gabriel: ticket_talked significa que eles falaram com o lojista ou só tentaram entrar em contato?\n",
    "query = \"\"\"select zendesktickets.id id_zendesk_ticket from zendesktickets\n",
    "join zendeskusers on zendeskusers.id = zendesktickets.requester_id\n",
    "where (custom_fields_consegui_contato_ = 'sim__consegui_contato_com_os_números'\n",
    "    or custom_fields_conseguiu_falar_com_o_cliente_ = 'sim__consegui_contato_com_os_números'\n",
    "    or custom_fields_conseguiu_falar_com_o_cliente_ = 'novo_contato_agendado') \"\"\"\n",
    "\n",
    "ticket_talked = query_in_db(query,'blu_datascience.json')\n",
    "ticket_talked['id_zendesk_ticket'] = ticket_talked.id_zendesk_ticket.astype('int')"
   ]
  },
  {
   "cell_type": "code",
   "execution_count": 64,
   "metadata": {},
   "outputs": [],
   "source": [
    "ticket_talked = ticket_created[ticket_created.id_zendesk_ticket.isin(ticket_talked.id_zendesk_ticket)]"
   ]
  },
  {
   "cell_type": "code",
   "execution_count": 65,
   "metadata": {},
   "outputs": [],
   "source": [
    "ticket_talked = ticket_created[ticket_created.id_zendesk_ticket.isin(ticket_talked.id_zendesk_ticket)]\n",
    "ticket_talked\n",
    "link = 'https://useblu.zendesk.com/agent/tickets/'\n",
    "ticket_talked['zendesk_calls'] = link + ticket_talked['id_zendesk_ticket'].astype(str)\n",
    "ticket_talked[['client_id','zendesk_calls']].to_csv('zendesk_calls_{}.csv'.format(assunto_2))"
   ]
  },
  {
   "cell_type": "code",
   "execution_count": 66,
   "metadata": {},
   "outputs": [],
   "source": [
    "ticket_talked['zendesk_calls'].to_csv('zendesk_calls_{}.csv'.format(assunto_2))"
   ]
  },
  {
   "cell_type": "code",
   "execution_count": 67,
   "metadata": {},
   "outputs": [
    {
     "data": {
      "text/plain": [
       "(290, 10)"
      ]
     },
     "execution_count": 67,
     "metadata": {},
     "output_type": "execute_result"
    }
   ],
   "source": [
    "ticket_talked.shape"
   ]
  },
  {
   "cell_type": "code",
   "execution_count": null,
   "metadata": {},
   "outputs": [],
   "source": []
  },
  {
   "cell_type": "code",
   "execution_count": null,
   "metadata": {},
   "outputs": [],
   "source": []
  }
 ],
 "metadata": {
  "kernelspec": {
   "display_name": "Python 3",
   "language": "python",
   "name": "python3"
  },
  "language_info": {
   "codemirror_mode": {
    "name": "ipython",
    "version": 3
   },
   "file_extension": ".py",
   "mimetype": "text/x-python",
   "name": "python",
   "nbconvert_exporter": "python",
   "pygments_lexer": "ipython3",
   "version": "3.7.7"
  }
 },
 "nbformat": 4,
 "nbformat_minor": 4
}
