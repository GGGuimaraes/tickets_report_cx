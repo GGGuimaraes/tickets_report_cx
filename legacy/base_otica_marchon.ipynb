{
 "cells": [
  {
   "cell_type": "code",
   "execution_count": null,
   "metadata": {},
   "outputs": [],
   "source": [
    "import boto3\n",
    "import sys\n",
    "import pandas as pd\n",
    "import json\n",
    "from sqlalchemy import create_engine\n",
    "import time\n",
    "S3 = boto3.resource('s3')\n",
    "\n",
    "\n",
    "def extract_file_as_string(path):\n",
    "    s3_object = S3.Object('blu-etl', path)\n",
    "    return s3_object.get()['Body'].read().decode('utf-8')\n",
    "\n",
    "\n",
    "\n",
    "def connect(credentials_name):\n",
    "    credentials = json.loads(extract_file_as_string(\n",
    "        'credentials/' + credentials_name))\n",
    "    \n",
    "    return create_engine('postgresql://{0}:{1}@{2}:{3}/{4}'\n",
    "                        .format(credentials['user'], \n",
    "                                credentials['passwd'],\n",
    "                                credentials['host'],\n",
    "                                credentials['port'],\n",
    "                                credentials['dbname']))"
   ]
  },
  {
   "cell_type": "code",
   "execution_count": null,
   "metadata": {},
   "outputs": [],
   "source": [
    "import pandas as pd\n",
    "import psycopg2\n",
    "import pandas.io.sql as sqlio\n",
    "import numpy as np\n",
    "import os,sys, inspect\n",
    "from sklearn.preprocessing import LabelEncoder\n",
    "import db_connections\n",
    "import boto3\n",
    "from datetime import datetime\n",
    "from s3 import *\n",
    "import utils\n",
    "import client_score_basic_functions as cs\n",
    "import payload\n",
    "import matplotlib.pyplot as plt\n",
    "\n",
    "from os import walk\n",
    "\n",
    "import seaborn as sns\n",
    "import warnings\n",
    "warnings.filterwarnings('ignore')\n",
    "pd.set_option('display.max_columns', None)\n",
    "pd.set_option('display.max_rows', 500)\n",
    "pd.set_option('display.float_format', lambda x: '%.3f' % x)\n",
    "\n",
    "con_destiny = db_connections.connect('blu-rds-datascience.json')\n",
    "con_pipe = db_connections.connect('blu_datascience.json')\n",
    "con_pagnet_production = db_connections.connect('pagnet_read_replica.json')\n",
    "con_send=connect('blu-rds-datascience.json')"
   ]
  },
  {
   "cell_type": "code",
   "execution_count": null,
   "metadata": {},
   "outputs": [],
   "source": [
    "base=payload.marchon_historic_base_payload()"
   ]
  },
  {
   "cell_type": "code",
   "execution_count": null,
   "metadata": {},
   "outputs": [],
   "source": [
    "assunto_texto = \"\"\"<p><span style=\"color: rgb(0, 0, 0); font-family: Arial; font-size: 13px; font-style: normal; font-variant-ligatures: normal; font-variant-caps: normal; font-weight: normal; letter-spacing: normal; orphans: 2; text-align: left; text-indent: 0px; text-transform: none; white-space: pre-wrap; widows: 2; word-spacing: 0px; -webkit-text-stroke-width: 0px; text-decoration: none; text-decoration-skip-ink: none;\">Comprar Marchon, via Blu, &eacute; sua melhor op&ccedil;&atilde;o! Al&eacute;m dos&nbsp;</span><span style=\"color: rgb(0, 0, 0); font-family: Arial; font-size: 13px; font-style: normal; font-variant-ligatures: normal; font-variant-caps: normal; letter-spacing: normal; orphans: 2; text-align: left; text-indent: 0px; text-transform: none; white-space: pre-wrap; widows: 2; word-spacing: 0px; -webkit-text-stroke-width: 0px; text-decoration: none; text-decoration-skip-ink: none; font-weight: bold;\">5%</span><span style=\"color: rgb(0, 0, 0); font-family: Arial; font-size: 13px; font-style: normal; font-variant-ligatures: normal; font-variant-caps: normal; font-weight: normal; letter-spacing: normal; orphans: 2; text-align: left; text-indent: 0px; text-transform: none; white-space: pre-wrap; widows: 2; word-spacing: 0px; -webkit-text-stroke-width: 0px; text-decoration: none; text-decoration-skip-ink: none;\">&nbsp;de desconto que hoje voc&ecirc; j&aacute; tem comprando &agrave; vista, via Blu, agora a Marchon tamb&eacute;m est&aacute; oferecendo&nbsp;</span><span style=\"color: rgb(0, 0, 0); font-family: Arial; font-size: 13px; font-style: normal; font-variant-ligatures: normal; font-variant-caps: normal; letter-spacing: normal; orphans: 2; text-align: left; text-indent: 0px; text-transform: none; white-space: pre-wrap; widows: 2; word-spacing: 0px; -webkit-text-stroke-width: 0px; text-decoration: none; text-decoration-skip-ink: none; font-weight: bold;\">3%</span><span style=\"color: rgb(0, 0, 0); font-family: Arial; font-size: 13px; font-style: normal; font-variant-ligatures: normal; font-variant-caps: normal; font-weight: normal; letter-spacing: normal; orphans: 2; text-align: left; text-indent: 0px; text-transform: none; white-space: pre-wrap; widows: 2; word-spacing: 0px; -webkit-text-stroke-width: 0px; text-decoration: none; text-decoration-skip-ink: none;\">&nbsp;de desconto na modalidade Antecipa&ccedil;&atilde;o Zero! N&atilde;o perca essa oportunidade. Promo&ccedil;&atilde;o por tempo limitado! Antecipe seu saldo futuro sem pagar taxa! Use o saldo das suas vendas parceladas em cart&otilde;es de cr&eacute;dito pela maquininha Blu ou pelo Aplicativo Blu Venda+ sem pagar pela taxa de antecipa&ccedil;&atilde;o! &nbsp; &nbsp; &nbsp; &nbsp; &nbsp; &nbsp; &nbsp; &nbsp; &nbsp; &nbsp; &nbsp;</span> </p>\"\"\"\n",
    "assunto_texto=assunto_texto.replace('\\n','')"
   ]
  },
  {
   "cell_type": "code",
   "execution_count": null,
   "metadata": {},
   "outputs": [],
   "source": [
    "base=cs.past_tickets(base, days = 15)"
   ]
  },
  {
   "cell_type": "code",
   "execution_count": null,
   "metadata": {},
   "outputs": [],
   "source": [
    "base=cs.already_talked_about_it(base, 'marchon_na_blu__base_historica')"
   ]
  },
  {
   "cell_type": "code",
   "execution_count": null,
   "metadata": {},
   "outputs": [],
   "source": [
    "base=cs.already_talked_about_it(base, 'marchon_na_blu__já_compram')"
   ]
  },
  {
   "cell_type": "code",
   "execution_count": null,
   "metadata": {},
   "outputs": [],
   "source": [
    "base=cs.today_tickets(base)"
   ]
  },
  {
   "cell_type": "code",
   "execution_count": null,
   "metadata": {},
   "outputs": [],
   "source": [
    "text_as_html=pd.read_csv('text_as_html.csv')\n",
    "\n",
    "text_as_html['texto'] = assunto_texto  + text_as_html.text\n",
    "\n",
    "base = base.merge(text_as_html[['client_id','texto']] , on = 'client_id')"
   ]
  },
  {
   "cell_type": "code",
   "execution_count": 10,
   "metadata": {},
   "outputs": [],
   "source": [
    "def insert_data(data, n = 0):\n",
    "    \n",
    "    data['created_at'] =  pd.Timestamp.now()\n",
    "    data['atribuído'] =  'Rentabilizacao'\n",
    "    data['ticket_name'] = 'Compre de seus fornecedores e não pague antecipação!'\n",
    "    data['atribuido_id'] = 360008079852\n",
    "    data['texto_html'] =   data['texto']\n",
    "    data['formulario'] =  'rentabilização_fast_add'\n",
    "    data['formulario_id'] =  360000837612\n",
    "    data['status'] = 'to_send'\n",
    "    data['kind'] = 'rentabilização'\n",
    "    data['subject'] = 'marchon_na_blu__base_historica'\n",
    "    data['id_zendesk_ticket'] =  np.nan\n",
    "    data['zendesk_ticket_created_at'] = np.nan\n",
    "    data['zendesk_user_id'] = np.nan\n",
    "    data['can_be_send'] = True\n",
    "    data['subject_kind_id'] = 360030912911\n",
    "    \n",
    "\n",
    "    data.head(n).to_sql('zendesk_integration', con_send, index=False, if_exists='append')"
   ]
  },
  {
   "cell_type": "code",
   "execution_count": null,
   "metadata": {},
   "outputs": [],
   "source": [
    "query = \"\"\"select email email, user_fields_gestor_rentabilizacao from zendeskusers\n",
    "\n",
    "where 1=1\n",
    "and user_fields_gestor_rentabilizacao is not  null\n",
    "--and phone is not null\n",
    "\"\"\"\n",
    "\n",
    "owner = sqlio.read_sql_query(query, con_pipe)"
   ]
  },
  {
   "cell_type": "code",
   "execution_count": null,
   "metadata": {},
   "outputs": [],
   "source": [
    "base_owner = owner.merge(base, on = 'email')"
   ]
  },
  {
   "cell_type": "code",
   "execution_count": null,
   "metadata": {},
   "outputs": [],
   "source": [
    "df = base_owner.groupby('user_fields_gestor_rentabilizacao', as_index = False).head(30)"
   ]
  },
  {
   "cell_type": "code",
   "execution_count": null,
   "metadata": {},
   "outputs": [],
   "source": [
    "df = df.rename({'user_fields_gestor_rentabilizacao':'cx_owner'}, axis = 1)\n",
    "df.rename({'text':'texto'}, axis = 1, inplace = True)"
   ]
  },
  {
   "cell_type": "code",
   "execution_count": null,
   "metadata": {},
   "outputs": [],
   "source": [
    "insert_data(df, n = len(df))"
   ]
  },
  {
   "cell_type": "code",
   "execution_count": null,
   "metadata": {},
   "outputs": [],
   "source": []
  }
 ],
 "metadata": {
  "kernelspec": {
   "display_name": "Python 3",
   "language": "python",
   "name": "python3"
  },
  "language_info": {
   "codemirror_mode": {
    "name": "ipython",
    "version": 3
   },
   "file_extension": ".py",
   "mimetype": "text/x-python",
   "name": "python",
   "nbconvert_exporter": "python",
   "pygments_lexer": "ipython3",
   "version": "3.7.7"
  }
 },
 "nbformat": 4,
 "nbformat_minor": 2
}
